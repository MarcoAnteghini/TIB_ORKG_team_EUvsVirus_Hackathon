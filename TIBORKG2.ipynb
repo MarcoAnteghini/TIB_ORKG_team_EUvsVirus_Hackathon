{
  "nbformat": 4,
  "nbformat_minor": 0,
  "metadata": {
    "colab": {
      "name": "TIBORKG2.ipynb",
      "provenance": [],
      "collapsed_sections": []
    },
    "kernelspec": {
      "name": "python3",
      "display_name": "Python 3"
    },
    "accelerator": "TPU"
  },
  "cells": [
    {
      "cell_type": "code",
      "metadata": {
        "id": "zcoxN6H-fLAm",
        "colab_type": "code",
        "colab": {}
      },
      "source": [
        "!git clone https://github.com/google-research/bert.git"
      ],
      "execution_count": 0,
      "outputs": []
    },
    {
      "cell_type": "code",
      "metadata": {
        "id": "l-X74mSHfTE3",
        "colab_type": "code",
        "colab": {}
      },
      "source": [
        "#using the older tensorflow since the TPU setup on the latest version is a tad bit complicated...\n",
        "!pip install tensorflow==1.15"
      ],
      "execution_count": 0,
      "outputs": []
    },
    {
      "cell_type": "code",
      "metadata": {
        "id": "fD6R3VDOfXQ_",
        "colab_type": "code",
        "colab": {}
      },
      "source": [
        "!git clone https://github.com/IBM/science-result-extractor.git"
      ],
      "execution_count": 0,
      "outputs": []
    },
    {
      "cell_type": "code",
      "metadata": {
        "id": "CWMhXVeHfabn",
        "colab_type": "code",
        "colab": {}
      },
      "source": [
        "cp science-result-extractor/bert_tdms/run_classifier_sci.py bert/"
      ],
      "execution_count": 0,
      "outputs": []
    },
    {
      "cell_type": "code",
      "metadata": {
        "id": "G3TwekTefc_X",
        "colab_type": "code",
        "colab": {}
      },
      "source": [
        "#we would need to load the google-drive with the data\n",
        "from google.colab import drive\n",
        "drive.mount('/content/gdrive', force_remount=True)"
      ],
      "execution_count": 0,
      "outputs": []
    },
    {
      "cell_type": "code",
      "metadata": {
        "id": "ob72vKhaftCy",
        "colab_type": "code",
        "colab": {}
      },
      "source": [
        "import datetime\n",
        "import json\n",
        "import os\n",
        "import pprint\n",
        "import random\n",
        "import string\n",
        "import sys\n",
        "import tensorflow as tf\n",
        "\n",
        "assert 'COLAB_TPU_ADDR' in os.environ, 'ERROR: Not connected to a TPU runtime; please see the first cell in this notebook for instructions!'\n",
        "TPU_ADDRESS = 'grpc://' + os.environ['COLAB_TPU_ADDR']\n",
        "print('TPU address is => ', TPU_ADDRESS)\n",
        "\n",
        "from google.colab import auth\n",
        "auth.authenticate_user()\n",
        "with tf.Session(TPU_ADDRESS) as session:\n",
        "  print('TPU devices:')\n",
        "  pprint.pprint(session.list_devices())\n",
        "\n",
        "  # Upload credentials to TPU.\n",
        "  with open('/content/adc.json', 'r') as f:\n",
        "    auth_info = json.load(f)\n",
        "  tf.contrib.cloud.configure_gcs(session, credentials=auth_info)\n",
        "  # Now credentials are set for all future sessions on this TPU."
      ],
      "execution_count": 0,
      "outputs": []
    },
    {
      "cell_type": "code",
      "metadata": {
        "id": "jBFlhNzTf5PX",
        "colab_type": "code",
        "colab": {
          "base_uri": "https://localhost:8080/",
          "height": 34
        },
        "outputId": "d0ee9ece-6442-4487-db5b-7436bdf6ed06"
      },
      "source": [
        "BUCKET = 'your_bucket' #@param {type:\"string\"}\n",
        "assert BUCKET, '*** Must specify an existing GCS bucket name ***'\n",
        "output_dir_name = 'your_directory' #@param {type:\"string\"}\n",
        "BUCKET_NAME = 'gs://{}'.format(BUCKET)\n",
        "OUTPUT_DIR = 'gs://{}/{}'.format(BUCKET,output_dir_name)\n",
        "#tf.gfile.MakeDirs(OUTPUT_DIR)\n",
        "print('***** Model output directory: {} *****'.format(OUTPUT_DIR))"
      ],
      "execution_count": 16,
      "outputs": [
        {
          "output_type": "stream",
          "text": [
            "***** Model output directory: gs://mar_bucket/new_document_classification_2ndtry *****\n"
          ],
          "name": "stdout"
        }
      ]
    },
    {
      "cell_type": "code",
      "metadata": {
        "id": "9Rw0Y49ZgspG",
        "colab_type": "code",
        "colab": {}
      },
      "source": [
        "cd bert/"
      ],
      "execution_count": 0,
      "outputs": []
    },
    {
      "cell_type": "code",
      "metadata": {
        "id": "7X7HQIwfgxo9",
        "colab_type": "code",
        "colab": {}
      },
      "source": [
        "#have to reset 'task_name' with the appropriate values i.e. one of two sentence (document) classification\n",
        "#substitute the tpu_name with the one printet from the above cell\n",
        "#substitute the data dir with your dirctory in google drive\n",
        "#the train and test file should be named train.tsv and test.tsv \n",
        "!python run_classifier_sci.py --do_train=true --do_eval=false --do_predict=false --data_dir= --task_name=sci --vocab_file=$BUCKET_NAME/scibert_scivocab_cased/vocab.txt  --bert_config_file=$BUCKET_NAME/scibert_scivocab_cased/bert_config.json --init_checkpoint=$BUCKET_NAME/scibert_scivocab_cased/bert_model.ckpt --output_dir=$OUTPUT_DIR --max_seq_length=512 --train_batch_size=16 --predict_batch_size=16 --use_tpu=True --tpu_name= --do_lower_case=False"
      ],
      "execution_count": 0,
      "outputs": []
    },
    {
      "cell_type": "code",
      "metadata": {
        "id": "hiR7GiTGhaW6",
        "colab_type": "code",
        "colab": {}
      },
      "source": [
        "!python run_classifier_sci.py --do_train=false --do_eval=false --do_predict=true --data_dir= --task_name=sci --vocab_file=$BUCKET_NAME/scibert_scivocab_cased/vocab.txt  --bert_config_file=$BUCKET_NAME/scibert_scivocab_cased/bert_config.json --init_checkpoint=$BUCKET_NAME/scibert_scivocab_cased/bert_model.ckpt --output_dir=$OUTPUT_DIR --max_seq_length=512 --train_batch_size=16 --predict_batch_size=16 --use_tpu=True --tpu_name=grpc: --do_lower_case=False"
      ],
      "execution_count": 0,
      "outputs": []
    }
  ]
}